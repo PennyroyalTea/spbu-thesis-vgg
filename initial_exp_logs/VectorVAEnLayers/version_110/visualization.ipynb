{
 "cells": [
  {
   "cell_type": "code",
   "execution_count": 2,
   "metadata": {},
   "outputs": [],
   "source": [
    "import cairosvg\n",
    "import glob\n",
    "import os\n",
    "\n",
    "\n",
    "def make_folder(i):\n",
    "    if not os.path.exists(str(i)):\n",
    "        os.makedirs(str(i))"
   ]
  },
  {
   "cell_type": "markdown",
   "metadata": {},
   "source": [
    "# convert to raster"
   ]
  },
  {
   "cell_type": "code",
   "execution_count": 13,
   "metadata": {},
   "outputs": [],
   "source": [
    "svg_folder = 'logs/VectorVAEnLayers/version_210/interpolation_custom/'\n",
    "make_folder(svg_folder + 'raster_svg/')"
   ]
  },
  {
   "cell_type": "code",
   "execution_count": 14,
   "metadata": {},
   "outputs": [],
   "source": [
    "for i in glob.glob(svg_folder+'*.svg'):\n",
    "    filename = i.split('/')[-1].replace('svg', 'png')\n",
    "    cairosvg.svg2png(url=i, write_to=f'{svg_folder}/raster_svg/{filename}', dpi=128, scale=2)"
   ]
  },
  {
   "cell_type": "code",
   "execution_count": 7,
   "metadata": {},
   "outputs": [],
   "source": [
    "?cairosvg.svg2png"
   ]
  },
  {
   "cell_type": "code",
   "execution_count": null,
   "metadata": {},
   "outputs": [],
   "source": []
  }
 ],
 "metadata": {
  "kernelspec": {
   "display_name": "Python 3",
   "language": "python",
   "name": "python3"
  },
  "language_info": {
   "codemirror_mode": {
    "name": "ipython",
    "version": 3
   },
   "file_extension": ".py",
   "mimetype": "text/x-python",
   "name": "python",
   "nbconvert_exporter": "python",
   "pygments_lexer": "ipython3",
   "version": "3.6.9"
  }
 },
 "nbformat": 4,
 "nbformat_minor": 4
}
