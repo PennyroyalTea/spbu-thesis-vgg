{
 "cells": [
  {
   "cell_type": "code",
   "execution_count": 2,
   "metadata": {},
   "outputs": [
    {
     "name": "stdout",
     "output_type": "stream",
     "text": [
      "/home/creddy/Work/vae /home/creddy/Work/vae/./data/numbers_changed/\n",
      "Using Differential Compositing\n",
      "loading:  last.ckpt\n"
     ]
    }
   ],
   "source": [
    "import yaml\n",
    "import argparse\n",
    "import numpy as np\n",
    "import os\n",
    "\n",
    "from models import *\n",
    "from experiment import VAEXperiment\n",
    "import torch\n",
    "import torch.backends.cudnn as cudnn\n",
    "from pytorch_lightning import Trainer\n",
    "from pytorch_lightning.loggers import TestTubeLogger\n",
    "from pytorch_lightning.callbacks import ModelCheckpoint\n",
    "import matplotlib.pyplot as plt\n",
    "import numpy as np\n",
    "import torchvision.utils as vutils\n",
    "\n",
    "filename = './configs/numbers_soft.yaml'\n",
    "with open(filename, 'r') as file:\n",
    "    try:\n",
    "        config = yaml.safe_load(file)\n",
    "    except yaml.YAMLError as exc:\n",
    "        print(exc)\n",
    "\n",
    "# For reproducibility\n",
    "torch.manual_seed(config['logging_params']['manual_seed'])\n",
    "np.random.seed(config['logging_params']['manual_seed'])\n",
    "cudnn.deterministic = True\n",
    "cudnn.benchmark = False\n",
    "\n",
    "model_save_path = os.getcwd()#'{}/{}/version_{}'.format(config['logging_params']['save_dir'], config['logging_params']['name'], tt_logger.version)\n",
    "parent = '/'.join(model_save_path.split('/')[:-3])\n",
    "config['logging_params']['save_dir'] = os.path.join(parent, config['logging_params']['save_dir'])\n",
    "config['exp_params']['data_path'] = os.path.join(parent, config['exp_params']['data_path'])\n",
    "print(parent, config['exp_params']['data_path'])\n",
    "\n",
    "model = vae_models[config['model_params']['name']](imsize=config['exp_params']['img_size'], **config['model_params'])\n",
    "experiment = VAEXperiment(model,\n",
    "                          config['exp_params'])\n",
    "\n",
    "weights = [x for x in os.listdir(model_save_path) if '.ckpt' in x]\n",
    "weights.sort(key=lambda x: os.path.getmtime(x))\n",
    "load_weight = weights[-1]\n",
    "print('loading: ', load_weight)\n",
    "\n",
    "checkpoint = torch.load(load_weight)\n",
    "experiment.load_state_dict(checkpoint['state_dict'])\n",
    "train_dataloader = experiment.train_dataloader()\n",
    "experiment.eval()\n",
    "experiment.freeze()"
   ]
  },
  {
   "cell_type": "code",
   "execution_count": 31,
   "metadata": {},
   "outputs": [],
   "source": [
    "def interpolate_mini(experiment, x, **kwargs) -> Tensor:\n",
    "    mu, log_var = experiment.model.encode(x)\n",
    "    z = experiment.model.interpolate_vectors(mu[0], mu[1], 10)\n",
    "    output = experiment.model.decode_and_composite(z, verbose=kwargs['verbose'])\n",
    "    return output\n",
    "\n",
    "\n",
    "def search_samples(search_string):\n",
    "    for idx, name in enumerate(experiment.sample_dataloader.dataset.samples):\n",
    "        if search_string in name[0]:\n",
    "            return idx\n",
    "    return 'NA'"
   ]
  },
  {
   "cell_type": "code",
   "execution_count": 23,
   "metadata": {},
   "outputs": [],
   "source": [
    "idx1 = search_samples('0_Akashi_6_8.png')\n",
    "idx2 = search_samples('0_Akashi_4_8.png')\n",
    "\n",
    "x1, _ = experiment.sample_dataloader.dataset[idx1]\n",
    "x2, _ = experiment.sample_dataloader.dataset[idx2]\n",
    "\n",
    "x = torch.stack([x1, x2], dim=0)"
   ]
  },
  {
   "cell_type": "code",
   "execution_count": 32,
   "metadata": {},
   "outputs": [
    {
     "name": "stderr",
     "output_type": "stream",
     "text": [
      "/home/creddy/anaconda3/envs/sets/lib/python3.6/site-packages/torch/nn/functional.py:1340: UserWarning: nn.functional.tanh is deprecated. Use torch.tanh instead.\n",
      "  warnings.warn(\"nn.functional.tanh is deprecated. Use torch.tanh instead.\")\n",
      "/home/creddy/anaconda3/envs/sets/lib/python3.6/site-packages/torch/nn/functional.py:1351: UserWarning: nn.functional.sigmoid is deprecated. Use torch.sigmoid instead.\n",
      "  warnings.warn(\"nn.functional.sigmoid is deprecated. Use torch.sigmoid instead.\")\n"
     ]
    }
   ],
   "source": [
    "interpolation = interpolate_mini(experiment, x, verbose=False)"
   ]
  },
  {
   "cell_type": "code",
   "execution_count": null,
   "metadata": {},
   "outputs": [],
   "source": [
    "vutils.save_image(interpolation.cpu().data,\n",
    "                  f\"./custom_interpolation.png\",\n",
    "                  normalize=False,\n",
    "                  nrow=10)"
   ]
  },
  {
   "cell_type": "code",
   "execution_count": 22,
   "metadata": {},
   "outputs": [
    {
     "data": {
      "text/plain": [
       "<matplotlib.image.AxesImage at 0x7fd10cc6b160>"
      ]
     },
     "execution_count": 22,
     "metadata": {},
     "output_type": "execute_result"
    },
    {
     "data": {
      "image/png": "[encoded data removed]",
      "text/plain": [
       "<Figure size 432x288 with 1 Axes>"
      ]
     },
     "metadata": {
      "needs_background": "light"
     },
     "output_type": "display_data"
    }
   ],
   "source": [
    "k = np.zeros([64,64,3])\n",
    "k[:,:,0] = t[0,:,:]\n",
    "k[:,:,1] = t[1,:,:]\n",
    "k[:,:,2] = t[2,:,:]\n",
    "plt.imshow(k)"
   ]
  },
  {
   "cell_type": "code",
   "execution_count": null,
   "metadata": {},
   "outputs": [],
   "source": []
  }
 ],
 "metadata": {
  "kernelspec": {
   "display_name": "Python 3",
   "language": "python",
   "name": "python3"
  },
  "language_info": {
   "codemirror_mode": {
    "name": "ipython",
    "version": 3
   },
   "file_extension": ".py",
   "mimetype": "text/x-python",
   "name": "python",
   "nbconvert_exporter": "python",
   "pygments_lexer": "ipython3",
   "version": "3.6.9"
  }
 },
 "nbformat": 4,
 "nbformat_minor": 4
}
